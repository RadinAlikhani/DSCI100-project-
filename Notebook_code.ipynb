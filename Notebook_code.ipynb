{
 "cells": [
  {
   "cell_type": "code",
   "execution_count": 1,
   "id": "b121e981-6575-4f69-abe3-eb1d03a01f93",
   "metadata": {},
   "outputs": [
    {
     "name": "stdout",
     "output_type": "stream",
     "text": [
      "[1] \"Hello World Kid\"\n"
     ]
    }
   ],
   "source": [
    "#sample code\n",
    "\n",
    "print(\"Hello World Kid\")"
   ]
  },
  {
   "cell_type": "code",
   "execution_count": null,
   "id": "1d3a3c5b-c0fa-4066-8571-ea8af4017d0d",
   "metadata": {},
   "outputs": [],
   "source": []
  }
 ],
 "metadata": {
  "kernelspec": {
   "display_name": "R",
   "language": "R",
   "name": "ir"
  },
  "language_info": {
   "codemirror_mode": "r",
   "file_extension": ".r",
   "mimetype": "text/x-r-source",
   "name": "R",
   "pygments_lexer": "r",
   "version": "4.3.3"
  }
 },
 "nbformat": 4,
 "nbformat_minor": 5
}
