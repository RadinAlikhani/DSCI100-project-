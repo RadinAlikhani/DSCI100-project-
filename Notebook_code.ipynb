{
 "cells": [
  {
   "cell_type": "code",
   "execution_count": 1,
   "id": "b121e981-6575-4f69-abe3-eb1d03a01f93",
   "metadata": {},
   "outputs": [
    {
     "name": "stdout",
     "output_type": "stream",
     "text": [
      "[1] \"Hello World Kid\"\n"
     ]
    }
   ],
   "source": [
    "#sample code\n",
    "\n",
    "print(\"Hello World Kid\")"
   ]
  },
  {
   "cell_type": "code",
   "execution_count": 3,
   "id": "1d3a3c5b-c0fa-4066-8571-ea8af4017d0d",
   "metadata": {},
   "outputs": [
    {
     "data": {
      "text/html": [
       "0"
      ],
      "text/latex": [
       "0"
      ],
      "text/markdown": [
       "0"
      ],
      "text/plain": [
       "[1] 0"
      ]
     },
     "metadata": {},
     "output_type": "display_data"
    }
   ],
   "source": [
    "1+3-4"
   ]
  },
  {
   "cell_type": "code",
   "execution_count": null,
   "id": "a06693e4-7b44-4715-bdcc-d02423072d72",
   "metadata": {},
   "outputs": [],
   "source": []
  }
 ],
 "metadata": {
  "kernelspec": {
   "display_name": "R",
   "language": "R",
   "name": "ir"
  },
  "language_info": {
   "codemirror_mode": "r",
   "file_extension": ".r",
   "mimetype": "text/x-r-source",
   "name": "R",
   "pygments_lexer": "r",
   "version": "4.3.3"
  }
 },
 "nbformat": 4,
 "nbformat_minor": 5
}
